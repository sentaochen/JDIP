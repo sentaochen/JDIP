{
 "cells": [
  {
   "cell_type": "code",
   "execution_count": 1,
   "metadata": {},
   "outputs": [],
   "source": [
    "# uncomment the code below to install the autograd package\n",
    "# !pip install autograd"
   ]
  },
  {
   "cell_type": "code",
   "execution_count": 2,
   "metadata": {},
   "outputs": [],
   "source": [
    "# uncomment the code below to install the pymanopt package\n",
    "# !pip install pymanopt"
   ]
  },
  {
   "cell_type": "code",
   "execution_count": 3,
   "metadata": {},
   "outputs": [],
   "source": [
    "import numpy as np\n",
    "import pandas as pd\n",
    "import scipy.io as sio\n",
    "import scipy.linalg as la\n",
    "from sklearn.svm import SVC\n",
    "from sklearn.svm import LinearSVC\n",
    "from sklearn.decomposition import PCA\n",
    "from sklearn.model_selection import GridSearchCV\n",
    "from sklearn.preprocessing import scale,LabelEncoder"
   ]
  },
  {
   "cell_type": "code",
   "execution_count": 4,
   "metadata": {},
   "outputs": [],
   "source": [
    "import numpy as np\n",
    "import pymanopt as pm\n",
    "import scipy.linalg as la\n",
    "import autograd.numpy as anp\n",
    "from pymanopt.optimizers import SteepestDescent\n",
    "import autograd.numpy.linalg as ala\n",
    "import pymanopt.manifolds as manifolds\n",
    "from sklearn.preprocessing import scale\n",
    "from sklearn.metrics import pairwise_distances\n",
    "\n",
    "class JDIP:\n",
    "\n",
    "    def __init__(self,dimension=30,lamda=1e-5,sigma=None,maxiter=5,verbosity=0):\n",
    "        \"\"\"\n",
    "\n",
    "        \"\"\"        \n",
    "        args_values = locals()\n",
    "        args_values.pop(\"self\")\n",
    "        for arg,value in args_values.items():\n",
    "            setattr(self,arg,value)\n",
    "    \n",
    "    def fit(self,Xs,ys,Xt,yt,Ws=None,Wt=None):\n",
    "        \"\"\"\n",
    "        \n",
    "        \"\"\"\n",
    "        ns,dim = Xs.shape\n",
    "        nt = Xt.shape[0]\n",
    "        Xs,Xt = scale(Xs,with_std=False),scale(Xt,with_std=False)\n",
    "        \n",
    "        y = np.hstack((ys,yt))\n",
    "        Ky = np.array(y[:,None]==y,dtype=np.float64)   \n",
    " \n",
    "        if self.sigma is None:\n",
    "            pairwise_dist = pairwise_distances(Xs,Xt,'sqeuclidean')\n",
    "            self.sigma = np.sqrt(np.median(pairwise_dist[pairwise_dist!=0]) / 2.0)\n",
    "        \n",
    "        \n",
    "        manifold = manifolds.Product([manifolds.Stiefel(dim, self.dimension),manifolds.Stiefel(dim, self.dimension)])\n",
    "        @pm.function.autograd(manifold)\n",
    "        # construct objective function \n",
    "        def objW(Ws,Wt):\n",
    "            \"\"\"\n",
    "            code from \n",
    "            https://stackoverflow.com/questions/47271662/what-is-the-fastest-way-to-compute-an-rbf-kernel-in-python\n",
    "            \"\"\"                                   \n",
    "            WX = anp.vstack((anp.dot(Xs,Ws),anp.dot(Xt,Wt)))\n",
    "            WX_norm = anp.sum(WX ** 2, axis = -1)\n",
    "            K_W = WX_norm[:,None] + WX_norm[None,:] - 2 * anp.dot(WX, WX.T)\n",
    "                \n",
    "            H = np.power(np.pi * self.sigma**2,self.dimension / 2.0) * anp.exp(-K_W / (4 * self.sigma**2)) * Ky\n",
    "            Temp = anp.exp(-K_W / (2 * self.sigma**2)) * Ky\n",
    "            h = anp.mean(Temp[:ns],axis=0) - anp.mean(Temp[ns:],axis=0)\n",
    "            \n",
    "            theta = ala.solve(H + self.lamda * anp.eye(ns + nt),h)\n",
    "            D = anp.dot(h,theta)                       \n",
    "            return D\n",
    "        \n",
    "        problem = pm.Problem(manifold=manifold, cost=objW)\n",
    "        optimizer = SteepestDescent(max_iterations=self.maxiter,verbosity=self.verbosity)\n",
    "        \n",
    "        if Ws is None and Wt is None:\n",
    "            W = optimizer.run(problem).point \n",
    "        else:\n",
    "            W = optimizer.run(problem,initial_point=[Ws[:,:self.dimension],Wt[:,:self.dimension]]).point   \n",
    "        return W\n"
   ]
  },
  {
   "cell_type": "code",
   "execution_count": 5,
   "metadata": {},
   "outputs": [],
   "source": [
    "def readData(sc,tg): \n",
    "    data = sio.loadmat('OC10_vgg6/' + sc + '.mat')# source domain \n",
    "    Xs,ys = data['FTS'].astype(np.float64),data['LABELS'].ravel()\n",
    "    ys = LabelEncoder().fit(ys).transform(ys).astype(np.float64)\n",
    "\n",
    "    data = sio.loadmat('OC10_vgg6/' + tg + '.mat')# target domain \n",
    "    Xt,yt = data['FTS'].astype(np.float64),data['LABELS'].ravel()\n",
    "    yt = LabelEncoder().fit(yt).transform(yt).astype(np.float64)\n",
    "    \n",
    "    Xs = Xs / la.norm(Xs,axis=1,keepdims=True)\n",
    "    Xt = Xt / la.norm(Xt,axis=1,keepdims=True)\n",
    "    return Xs,ys,Xt,yt"
   ]
  },
  {
   "cell_type": "code",
   "execution_count": 6,
   "metadata": {},
   "outputs": [],
   "source": [
    "estimator = LinearSVC()"
   ]
  },
  {
   "cell_type": "code",
   "execution_count": 7,
   "metadata": {},
   "outputs": [],
   "source": [
    "def source_partition(Xs,ys,samp_per_class,seed):\n",
    "    Xs_tr,ys_tr = [],[]\n",
    "    ys = ys.astype(int)\n",
    "    for i in np.unique(ys):\n",
    "        Xi,yi = Xs[ys==i],ys[ys==i]\n",
    "        np.random.seed(seed)\n",
    "        s = np.random.choice(len(yi),samp_per_class,replace=False)\n",
    "        Xi_tr,yi_tr = Xi[s].tolist(),yi[s].tolist()\n",
    "        Xs_tr.extend(Xi_tr),ys_tr.extend(yi_tr)\n",
    "\n",
    "    return np.array(Xs_tr),np.array(ys_tr)\n",
    "\n",
    "def target_partition(Xt,yt,samp_per_class,seed):\n",
    "    Xt_tr,yt_tr,Xt_te,yt_te = [],[],[],[]\n",
    "    yt = yt.astype(int)\n",
    "    for i in np.unique(yt):\n",
    "        Xi,yi = Xt[yt==i],yt[yt==i]\n",
    "        np.random.seed(seed) \n",
    "        s1 = np.random.choice(len(yi),samp_per_class,replace=False)\n",
    "        s2 = list(set(range(len(yi))) - set(s1))    \n",
    "        Xi_tr,yi_tr,Xi_te,yi_te = Xi[s1].tolist(),yi[s1].tolist(),Xi[s2].tolist(),yi[s2].tolist()\n",
    "        Xt_tr.extend(Xi_tr),yt_tr.extend(yi_tr),Xt_te.extend(Xi_te),yt_te.extend(yi_te)\n",
    "\n",
    "    return np.array(Xt_tr),np.array(yt_tr),np.array(Xt_te),np.array(yt_te)"
   ]
  },
  {
   "cell_type": "code",
   "execution_count": 8,
   "metadata": {},
   "outputs": [
    {
     "name": "stdout",
     "output_type": "stream",
     "text": [
      "98.86792452830188\n"
     ]
    }
   ],
   "source": [
    "Xs,ys,Xt,yt = readData('dslr','webcam')\n",
    "\n",
    "souSamp_per_class = 8\n",
    "tarSamp_per_class = 3\n",
    "\n",
    "Xs_sub,ys_sub = source_partition(Xs,ys,souSamp_per_class,0)\n",
    "Xtl,ytl,Xtu,ytu = target_partition(Xt,yt,tarSamp_per_class,0)\n",
    "                \n",
    "ytu0 = estimator.fit(np.vstack((Xs_sub,Xtl)),np.hstack((ys_sub,ytl))).predict(Xtu)\n",
    "W0 = PCA().fit(np.vstack((Xs_sub,Xt))).components_.T\n",
    "Ws,Wt = W0,W0\n",
    "for k in range(10):\n",
    "    Xt_,yt0_ = np.vstack((Xtl,Xtu)),np.hstack((ytl,ytu0))\n",
    "    W = JDIP(dimension=100,lamda=1e-5,sigma=.5,maxiter=5,verbosity=0).fit(Xs_sub,ys_sub,Xt_,yt0_,Ws,Wt)\n",
    "    Xs_sub_r,Xtl_r,Xtu_r = Xs_sub.dot(W[0]),Xtl.dot(W[1]),Xtu.dot(W[1])\n",
    "        \n",
    "    Xs_sub_r = Xs_sub_r / la.norm(Xs_sub_r,axis=1,keepdims=True)\n",
    "    Xtl_r = Xtl_r / la.norm(Xtl_r,axis=1,keepdims=True)\n",
    "    Xtu_r = Xtu_r / la.norm(Xtu_r,axis=1,keepdims=True)\n",
    "                \n",
    "    ytu0 = estimator.fit(np.vstack((Xs_sub_r,Xtl_r)),np.hstack((ys_sub,ytl))).predict(Xtu_r)\n",
    "    #print(k, '-th iter.', estimator.score(Xtu_r,ytu))\n",
    "                                \n",
    "print(estimator.fit(np.vstack((Xs_sub_r,Xtl_r)),np.hstack((ys_sub,ytl))).score(Xtu_r,ytu) * 100.)"
   ]
  }
 ],
 "metadata": {
  "kernelspec": {
   "display_name": "Python 3 (ipykernel)",
   "language": "python",
   "name": "python3"
  },
  "language_info": {
   "codemirror_mode": {
    "name": "ipython",
    "version": 3
   },
   "file_extension": ".py",
   "mimetype": "text/x-python",
   "name": "python",
   "nbconvert_exporter": "python",
   "pygments_lexer": "ipython3",
   "version": "3.9.13"
  }
 },
 "nbformat": 4,
 "nbformat_minor": 2
}
